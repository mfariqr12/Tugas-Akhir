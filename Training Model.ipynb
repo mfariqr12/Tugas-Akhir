{
 "cells": [
  {
   "cell_type": "code",
   "execution_count": 195,
   "id": "48fbb600-bc96-4b47-9700-12000e4da977",
   "metadata": {},
   "outputs": [],
   "source": [
    "import os\n",
    "import librosa\n",
    "import numpy as np\n",
    "from sklearn.model_selection import train_test_split\n",
    "from hmmlearn import hmm\n",
    "import json\n",
    "from sklearn.metrics import confusion_matrix, classification_report, accuracy_score\n",
    "import scipy.io.wavfile as wav\n",
    "import pickle"
   ]
  },
  {
   "cell_type": "code",
   "execution_count": 196,
   "id": "7669352a-19f5-4770-8138-fb2d2c8d6188",
   "metadata": {},
   "outputs": [],
   "source": [
    "data_dir = r'C:\\Users\\User\\Desktop\\Code\\Dataset'\n",
    "json_path = 'FDiff.json'\n",
    "fixed_sample = 22050 * 3"
   ]
  },
  {
   "cell_type": "code",
   "execution_count": 197,
   "id": "75b7414a-744b-46b9-9268-f2c9ac4d3a24",
   "metadata": {},
   "outputs": [],
   "source": [
    "def dataTrain():\n",
    "\n",
    "    data = {}\n",
    "\n",
    "    for i, (dirpath, dirnames, filenames) in enumerate(os.walk(data_dir)):\n",
    "\n",
    "        if dirpath is not data_dir:\n",
    "\n",
    "            label = os.path.basename(dirpath)\n",
    "            print(\"\\nProcessing: '{}'\".format(label))\n",
    "            data[label] = []\n",
    "            for f in filenames:\n",
    "                file_path = os.path.join(dirpath, f)\n",
    "\n",
    "                signal, sample_rate = librosa.load(file_path)\n",
    "\n",
    "                if len(signal) >= fixed_sample:\n",
    "                    signal = signal[:fixed_sample]\n",
    "\n",
    "                MFCCs = librosa.feature.mfcc(y=signal, sr=sample_rate, n_mfcc=13, n_fft=2048, hop_length=512)\n",
    "                data[label].append(MFCCs.T.tolist())\n",
    "\n",
    "                    \n",
    "    json_data = json.dumps(data, indent=2)\n",
    "    \n",
    "    with open(json_path, \"w\") as json_file:\n",
    "        json_file.write(json_data)"
   ]
  },
  {
   "cell_type": "code",
   "execution_count": 198,
   "id": "087a71bb-b877-4af2-8af1-4e4ab6b4bcc6",
   "metadata": {},
   "outputs": [
    {
     "name": "stdout",
     "output_type": "stream",
     "text": [
      "\n",
      "Processing: 'ambulance'\n",
      "\n",
      "Processing: 'firetruck'\n",
      "\n",
      "Processing: 'police'\n"
     ]
    }
   ],
   "source": [
    "dataTrain()"
   ]
  },
  {
   "cell_type": "code",
   "execution_count": 199,
   "id": "58dfeda3-49e6-4fed-aba9-813110c25af8",
   "metadata": {},
   "outputs": [],
   "source": [
    "def train_HMM(dataset):\n",
    "    Models = {}\n",
    "    for label in dataset.keys():\n",
    "        model = hmm.GaussianHMM(n_components=3)\n",
    "        trainData = dataset[label]\n",
    "        trData = np.vstack(trainData)\n",
    "        model.fit(trData)\n",
    "        Models[label] = model\n",
    "    return Models"
   ]
  },
  {
   "cell_type": "code",
   "execution_count": 200,
   "id": "46a2993c-37e7-41d6-bf75-5faef0b12d71",
   "metadata": {},
   "outputs": [],
   "source": [
    "with open(json_path, \"r\") as fp:\n",
    "    data = json.load(fp)\n",
    "\n",
    "train_data = {}\n",
    "test_data = {}\n",
    "for label, features in data.items():\n",
    "    train_features, test_features = train_test_split(features, test_size=0.2, random_state=42)\n",
    "    train_data[label] = train_features\n",
    "    test_data[label] = test_features"
   ]
  },
  {
   "cell_type": "code",
   "execution_count": 201,
   "id": "2fc12ef1-727b-46c1-a6ac-6cd5860040a3",
   "metadata": {},
   "outputs": [],
   "source": [
    "hmmModels = train_HMM(train_data)"
   ]
  },
  {
   "cell_type": "code",
   "execution_count": 202,
   "id": "699e68f9-5051-4e2c-abfc-52d01f45ccdc",
   "metadata": {},
   "outputs": [
    {
     "name": "stdout",
     "output_type": "stream",
     "text": [
      "{'ambulance': GaussianHMM(n_components=3), 'firetruck': GaussianHMM(n_components=3), 'police': GaussianHMM(n_components=3)}\n"
     ]
    }
   ],
   "source": [
    "print(hmmModels)"
   ]
  },
  {
   "cell_type": "code",
   "execution_count": 203,
   "id": "47f58541-945c-4d75-9fcd-668981634f4e",
   "metadata": {},
   "outputs": [
    {
     "name": "stdout",
     "output_type": "stream",
     "text": [
      "216\n",
      "251\n",
      "86.056\n",
      "['ambulance', 'ambulance', 'ambulance', 'ambulance', 'ambulance', 'ambulance', 'ambulance', 'ambulance', 'ambulance', 'ambulance', 'ambulance', 'ambulance', 'ambulance', 'ambulance', 'ambulance', 'ambulance', 'ambulance', 'ambulance', 'ambulance', 'ambulance', 'ambulance', 'ambulance', 'ambulance', 'ambulance', 'ambulance', 'ambulance', 'ambulance', 'ambulance', 'ambulance', 'ambulance', 'ambulance', 'ambulance', 'ambulance', 'ambulance', 'ambulance', 'ambulance', 'ambulance', 'ambulance', 'ambulance', 'ambulance', 'ambulance', 'ambulance', 'ambulance', 'ambulance', 'ambulance', 'ambulance', 'ambulance', 'ambulance', 'ambulance', 'ambulance', 'ambulance', 'ambulance', 'ambulance', 'ambulance', 'ambulance', 'ambulance', 'ambulance', 'ambulance', 'ambulance', 'ambulance', 'ambulance', 'ambulance', 'ambulance', 'ambulance', 'ambulance', 'ambulance', 'ambulance', 'ambulance', 'ambulance', 'ambulance', 'ambulance', 'ambulance', 'ambulance', 'ambulance', 'ambulance', 'ambulance', 'ambulance', 'ambulance', 'ambulance', 'ambulance', 'firetruck', 'firetruck', 'firetruck', 'firetruck', 'firetruck', 'firetruck', 'firetruck', 'firetruck', 'firetruck', 'firetruck', 'firetruck', 'firetruck', 'firetruck', 'firetruck', 'firetruck', 'firetruck', 'firetruck', 'firetruck', 'firetruck', 'firetruck', 'firetruck', 'firetruck', 'firetruck', 'firetruck', 'firetruck', 'firetruck', 'firetruck', 'firetruck', 'firetruck', 'firetruck', 'firetruck', 'firetruck', 'firetruck', 'firetruck', 'firetruck', 'firetruck', 'firetruck', 'firetruck', 'firetruck', 'firetruck', 'firetruck', 'firetruck', 'firetruck', 'firetruck', 'firetruck', 'firetruck', 'firetruck', 'firetruck', 'firetruck', 'firetruck', 'firetruck', 'firetruck', 'firetruck', 'firetruck', 'firetruck', 'firetruck', 'firetruck', 'firetruck', 'firetruck', 'firetruck', 'firetruck', 'firetruck', 'firetruck', 'firetruck', 'firetruck', 'firetruck', 'firetruck', 'firetruck', 'firetruck', 'firetruck', 'firetruck', 'firetruck', 'firetruck', 'firetruck', 'firetruck', 'firetruck', 'firetruck', 'firetruck', 'firetruck', 'firetruck', 'police', 'police', 'police', 'police', 'police', 'police', 'police', 'police', 'police', 'police', 'police', 'police', 'police', 'police', 'police', 'police', 'police', 'police', 'police', 'police', 'police', 'police', 'police', 'police', 'police', 'police', 'police', 'police', 'police', 'police', 'police', 'police', 'police', 'police', 'police', 'police', 'police', 'police', 'police', 'police', 'police', 'police', 'police', 'police', 'police', 'police', 'police', 'police', 'police', 'police', 'police', 'police', 'police', 'police', 'police', 'police', 'police', 'police', 'police', 'police', 'police', 'police', 'police', 'police', 'police', 'police', 'police', 'police', 'police', 'police', 'police', 'police', 'police', 'police', 'police', 'police', 'police', 'police', 'police', 'police', 'police', 'police', 'police', 'police', 'police', 'police', 'police', 'police', 'police', 'police', 'police']\n",
      "['ambulance', 'ambulance', 'ambulance', 'ambulance', 'ambulance', 'ambulance', 'ambulance', 'ambulance', 'ambulance', 'ambulance', 'ambulance', 'ambulance', 'ambulance', 'ambulance', 'ambulance', 'firetruck', 'ambulance', 'ambulance', 'ambulance', 'ambulance', 'ambulance', 'ambulance', 'ambulance', 'ambulance', 'ambulance', 'ambulance', 'ambulance', 'ambulance', 'ambulance', 'ambulance', 'ambulance', 'ambulance', 'firetruck', 'ambulance', 'ambulance', 'ambulance', 'ambulance', 'ambulance', 'ambulance', 'ambulance', 'ambulance', 'ambulance', 'ambulance', 'ambulance', 'ambulance', 'ambulance', 'ambulance', 'ambulance', 'ambulance', 'ambulance', 'ambulance', 'ambulance', 'police', 'firetruck', 'ambulance', 'firetruck', 'ambulance', 'ambulance', 'firetruck', 'ambulance', 'ambulance', 'ambulance', 'ambulance', 'ambulance', 'ambulance', 'ambulance', 'police', 'ambulance', 'ambulance', 'ambulance', 'ambulance', 'ambulance', 'ambulance', 'ambulance', 'ambulance', 'ambulance', 'ambulance', 'firetruck', 'police', 'ambulance', 'firetruck', 'firetruck', 'firetruck', 'firetruck', 'firetruck', 'firetruck', 'firetruck', 'firetruck', 'firetruck', 'firetruck', 'ambulance', 'firetruck', 'firetruck', 'firetruck', 'firetruck', 'firetruck', 'firetruck', 'firetruck', 'firetruck', 'firetruck', 'ambulance', 'police', 'firetruck', 'firetruck', 'firetruck', 'ambulance', 'firetruck', 'firetruck', 'firetruck', 'firetruck', 'firetruck', 'ambulance', 'firetruck', 'ambulance', 'firetruck', 'firetruck', 'firetruck', 'firetruck', 'firetruck', 'firetruck', 'firetruck', 'firetruck', 'firetruck', 'firetruck', 'firetruck', 'firetruck', 'firetruck', 'firetruck', 'firetruck', 'firetruck', 'firetruck', 'firetruck', 'firetruck', 'ambulance', 'firetruck', 'firetruck', 'ambulance', 'firetruck', 'firetruck', 'police', 'firetruck', 'ambulance', 'firetruck', 'firetruck', 'firetruck', 'firetruck', 'firetruck', 'firetruck', 'police', 'firetruck', 'firetruck', 'firetruck', 'firetruck', 'firetruck', 'firetruck', 'firetruck', 'firetruck', 'firetruck', 'firetruck', 'firetruck', 'police', 'police', 'police', 'police', 'police', 'police', 'police', 'police', 'police', 'police', 'police', 'firetruck', 'police', 'police', 'ambulance', 'police', 'ambulance', 'firetruck', 'police', 'police', 'ambulance', 'police', 'police', 'police', 'police', 'firetruck', 'ambulance', 'police', 'police', 'police', 'police', 'firetruck', 'police', 'police', 'police', 'police', 'police', 'police', 'police', 'police', 'police', 'police', 'police', 'police', 'police', 'police', 'police', 'police', 'police', 'police', 'police', 'police', 'firetruck', 'ambulance', 'police', 'police', 'police', 'police', 'police', 'police', 'firetruck', 'police', 'police', 'police', 'police', 'police', 'police', 'police', 'police', 'firetruck', 'police', 'police', 'police', 'police', 'firetruck', 'police', 'police', 'police', 'police', 'police', 'police', 'ambulance', 'police', 'police', 'police', 'police', 'police', 'police', 'ambulance', 'police', 'police']\n"
     ]
    }
   ],
   "source": [
    "acc_count = 0\n",
    "all_data_count = 0\n",
    "\n",
    "label_true = []\n",
    "label_pred = []\n",
    "\n",
    "for label in test_data.keys():\n",
    "    feature = test_data[label]\n",
    "    for index in range(len(feature)):\n",
    "        # print(index)\n",
    "        all_data_count+=1\n",
    "        scoreList = {}\n",
    "        for model_label in hmmModels.keys():\n",
    "            model = hmmModels[model_label]\n",
    "            score = model.score(feature[index])\n",
    "            scoreList[model_label] = score\n",
    "        predict = max(scoreList, key=scoreList.get)\n",
    "        if predict == label:\n",
    "            acc_count+=1\n",
    "        label_true.append(label)\n",
    "        label_pred.append(predict) \n",
    "\n",
    "print(acc_count)\n",
    "print(all_data_count)\n",
    "accuracy = round(((acc_count/all_data_count)*100.0),3)\n",
    "\n",
    "print(accuracy)\n",
    "print(label_true)\n",
    "print(label_pred)"
   ]
  },
  {
   "cell_type": "code",
   "execution_count": 204,
   "id": "ac663a74-7533-4da2-85e6-f8977685230e",
   "metadata": {},
   "outputs": [],
   "source": [
    "with open('HMModel.pkl', 'wb') as f:\n",
    "    pickle.dump(hmmModels, f)"
   ]
  },
  {
   "cell_type": "code",
   "execution_count": 205,
   "id": "a717e4f1-da75-41f7-9cca-7403a794a8db",
   "metadata": {},
   "outputs": [
    {
     "data": {
      "image/png": "[encoded data removed]",
      "text/plain": [
       "<Figure size 1000x700 with 2 Axes>"
      ]
     },
     "metadata": {},
     "output_type": "display_data"
    }
   ],
   "source": [
    "import matplotlib.pyplot as plt\n",
    "import seaborn as sns\n",
    "\n",
    "label_names = ['Ambulance', 'Firetruck', 'Police']\n",
    "cm = confusion_matrix(label_true, label_pred)\n",
    "\n",
    "plt.figure(figsize=(10, 7))\n",
    "sns.heatmap(cm, annot=True, fmt='d', cmap='Blues', xticklabels=label_names, yticklabels=label_names)\n",
    "plt.xlabel('Predicted')\n",
    "plt.ylabel('True')\n",
    "plt.title('Confusion Matrix')\n",
    "plt.show()"
   ]
  },
  {
   "cell_type": "code",
   "execution_count": 206,
   "id": "ca74b0bb-90e7-4d1e-9a1d-8e5b135a2484",
   "metadata": {},
   "outputs": [
    {
     "name": "stdout",
     "output_type": "stream",
     "text": [
      "              precision    recall  f1-score   support\n",
      "\n",
      "   ambulance       0.83      0.89      0.86        80\n",
      "   firetruck       0.83      0.86      0.85        80\n",
      "      police       0.93      0.84      0.88        91\n",
      "\n",
      "    accuracy                           0.86       251\n",
      "   macro avg       0.86      0.86      0.86       251\n",
      "weighted avg       0.86      0.86      0.86       251\n",
      "\n",
      "0.8605577689243028\n"
     ]
    }
   ],
   "source": [
    "print(classification_report(label_true, label_pred))\n",
    "\n",
    "print(accuracy_score(label_true, label_pred))"
   ]
  },
  {
   "cell_type": "code",
   "execution_count": null,
   "id": "f055be3c-d464-4b92-94f6-19f07cde93b5",
   "metadata": {},
   "outputs": [],
   "source": []
  },
  {
   "cell_type": "code",
   "execution_count": null,
   "id": "52824b5f-93d9-4859-83d2-a431f22f36c4",
   "metadata": {},
   "outputs": [],
   "source": []
  }
 ],
 "metadata": {
  "kernelspec": {
   "display_name": "Python 3 (ipykernel)",
   "language": "python",
   "name": "python3"
  },
  "language_info": {
   "codemirror_mode": {
    "name": "ipython",
    "version": 3
   },
   "file_extension": ".py",
   "mimetype": "text/x-python",
   "name": "python",
   "nbconvert_exporter": "python",
   "pygments_lexer": "ipython3",
   "version": "3.12.4"
  }
 },
 "nbformat": 4,
 "nbformat_minor": 5
}
